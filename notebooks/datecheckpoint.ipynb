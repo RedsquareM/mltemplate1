{
 "cells": [
  {
   "cell_type": "code",
   "execution_count": null,
   "metadata": {},
   "outputs": [],
   "source": [
    "import pandas as pd\n",
    "\n",
    "#%%\n",
    "\n",
    "df = pd.read_csv('penguins_lter.csv')\n",
    "df = df.fillna(0)\n",
    "df.tail()\n",
    "\n",
    "#%%\n",
    "\n",
    "columns = ['Delta 15 N (o/oo)','Delta 13 C (o/oo)']\n",
    "new_df = pd.DataFrame()\n",
    "for i in columns:\n",
    "    new_df[i] = df[i]\n",
    "new_df.head()\n",
    "\n",
    "#%% md\n",
    "\n",
    "Part 2\n",
    "\n",
    "#%%\n",
    "\n",
    "df = pd.read_csv('penguins_size.csv')\n",
    "df = df.fillna(0)\n",
    "df.tail()\n",
    "\n",
    "#%%\n",
    "\n",
    "df = pd.concat([df, new_df], axis=1)\n",
    "labels = df['species'].unique()\n",
    "df.head()\n",
    "\n",
    "#%%\n",
    "\n",
    "labels = list(labels)\n",
    "\n",
    "#%%\n",
    "\n",
    "from sklearn.preprocessing import LabelEncoder \n",
    "le = LabelEncoder()\n",
    "df['species'] = le.fit_transform(df['species'])\n",
    "encodes = df['species'].unique()\n",
    "encodes = list(encodes)\n"
   ]
  }
 ],
 "metadata": {
  "language_info": {
   "name": "python"
  },
  "orig_nbformat": 4
 },
 "nbformat": 4,
 "nbformat_minor": 2
}
